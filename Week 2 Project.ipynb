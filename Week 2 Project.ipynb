{
 "cells": [
  {
   "cell_type": "markdown",
   "metadata": {
    "colab_type": "text",
    "id": "iQm-WFec4yaU"
   },
   "source": [
    "# Project Description"
   ]
  },
  {
   "cell_type": "code",
   "execution_count": 1,
   "metadata": {
    "colab": {
     "base_uri": "https://localhost:8080/",
     "height": 72
    },
    "colab_type": "code",
    "executionInfo": {
     "elapsed": 993,
     "status": "ok",
     "timestamp": 1564223383912,
     "user": {
      "displayName": "Jody Thai",
      "photoUrl": "https://lh3.googleusercontent.com/-LpV78qt_WbM/AAAAAAAAAAI/AAAAAAAAAJU/cSDgYdKtTQs/s64/photo.jpg",
      "userId": "15371680425307616747"
     },
     "user_tz": -420
    },
    "id": "IUrOiCvb39WW",
    "outputId": "30cf167e-9f77-4984-dd10-fa5a952c3d9c"
   },
   "outputs": [],
   "source": [
    "# Import libraries\n",
    "import pandas as pd\n",
    "import datetime\n",
    "import requests\n",
    "from bs4 import BeautifulSoup\n",
    "import psycopg2\n",
    "import logging"
   ]
  },
  {
   "cell_type": "code",
   "execution_count": 2,
   "metadata": {
    "colab": {},
    "colab_type": "code",
    "id": "ls92OH0N477d"
   },
   "outputs": [],
   "source": [
    "# Define constants and table prefix\n",
    "tbl_prefix = \"tiki_\"\n",
    "SCRAPING_URL = \"https://tiki.vn\""
   ]
  },
  {
   "cell_type": "markdown",
   "metadata": {
    "colab_type": "text",
    "id": "A1V0y7Rn7qPi"
   },
   "source": [
    "## Miscellaneous Functions"
   ]
  },
  {
   "cell_type": "code",
   "execution_count": 3,
   "metadata": {
    "colab": {},
    "colab_type": "code",
    "id": "X0Ujym_b7VRm"
   },
   "outputs": [],
   "source": [
    "def print_exception(err):\n",
    "\t\"\"\"\n",
    "\tThis function is used to render the Exception error\n",
    "\t\"\"\"\n",
    "\tlogging.exception(err)\n",
    "\n",
    "def connect_to_db():\n",
    "\t\"\"\" This function returns a database connection\n",
    "\t\"\"\"\n",
    "\ttry:\n",
    "\t\tconnection = psycopg2.connect(user = \"duong\",\n",
    "\t\t\t\t\t\t\t\t\t\tpassword = 'P@ssw0rd',\n",
    "\t\t\t\t\t\t\t\t\t\thost = \"127.0.0.1\",\n",
    "\t\t\t\t\t\t\t\t\t\tport = \"5432\",\n",
    "\t\t\t\t\t\t\t\t\t\tdatabase = \"fansipan_week2\")\n",
    "\t\treturn connection\n",
    "\t\t\n",
    "\texcept (Exception, psycopg2.Error) as err:\n",
    "\t\tprint_exception(err)"
   ]
  },
  {
   "cell_type": "markdown",
   "metadata": {
    "colab_type": "text",
    "id": "JCCUTB5R7maw"
   },
   "source": [
    "## The Scraper"
   ]
  },
  {
   "cell_type": "code",
   "execution_count": 4,
   "metadata": {
    "colab": {},
    "colab_type": "code",
    "id": "s71PMNyg7dzg"
   },
   "outputs": [],
   "source": [
    "# Parser function to retrieve and parse the HTML code of a website \n",
    "def parser(url):\n",
    "\t\"\"\"Get a parsed version of an URL\"\"\"\n",
    "\n",
    "\ttry:\n",
    "\t\t# Retrieve plain HTML code\n",
    "\t\tplain = requests.get(url).text\n",
    "\n",
    "\t\t# Parse the plain content into structured one\n",
    "\t\tsoup = BeautifulSoup(plain, features=\"lxml\")\n",
    "\n",
    "\t\treturn soup\n",
    "\n",
    "\texcept Exception as err:\n",
    "\t\tprint_exception(err)\n",
    "\n",
    "def scrape_products(cat_id, cat_name, url):\n",
    "\t\"\"\"Scrape product information of all products on one page\"\"\"\n",
    "\n",
    "\ttry:\n",
    "\t\t# Initialize empty 'results' list\n",
    "\t\tresults = []\n",
    "\n",
    "\t\t# Get the parsed html code\n",
    "\t\tsoup = parser(url)\n",
    "\n",
    "\t\t# Find all products on this page\n",
    "\t\tproduct_items = soup.find_all('div', class_='product-item')\n",
    "\n",
    "\t\t# If there is no products, return an empty list.\n",
    "\t\tif len(product_items) == 0:\n",
    "\t\t\treturn []\n",
    "\t\t\n",
    "\t\t# If the page has products\n",
    "\t\telse: \n",
    "\t\t\trating = -1\n",
    "\t\t\ttiki_now = ''\n",
    "\t\t\tproduct_url = ''\n",
    "\t\t\treview_total = 0\n",
    "\n",
    "\t\t\t# Iterate through all product_items and store the product information in the 'row' list\n",
    "\t\t\tfor product in product_items:\n",
    "\t\t\t\t\n",
    "\t\t\t\tif len(product.select('.rating-content > span')) > 0:\n",
    "\t\t\t\t\trating = product.select_one('.rating-content > span')[\"style\"]\n",
    "\t\t\t\t\trating = rating.replace('width:', '').replace('%', '')\n",
    "\t\t\t\t\n",
    "\t\t\t\tif len(product.select('.review-wrap .review')) > 0:\n",
    "\t\t\t\t\treview_total = product.select_one('.review-wrap .review').string\n",
    "\t\t\t\t\treview_total = review_total[review_total.find('(')+1:review_total.find(' ')]\n",
    "\n",
    "\t\t\t\tprice_regular = product.find('span', class_=\"price-regular\").text\n",
    "\t\t\t\tif price_regular != '':\n",
    "\t\t\t\t\tprice_regular = price_regular[0:-2].replace('.', '')\n",
    "\t\t\t\telse:\n",
    "\t\t\t\t\tprice_regular = -1\n",
    "\n",
    "\t\t\t\ttiki_now = True if len(product.select('i.icon-tikinow')) > 0 else False\n",
    "\t\t\t\tproduct_url = product.select_one('a')['href']\n",
    "\t\t\t\tinsert_date = datetime.datetime.now()\n",
    "\n",
    "\t\t\t\trow = \t{\t'product_id' : product.get('data-id'), \n",
    "\t\t\t\t\t\t\t'seller_id' : product.get('data-seller-product-id'),\n",
    "\t\t\t\t\t\t\t'cat_id' : cat_id,\n",
    "\t\t\t\t\t\t\t'title' : product.get('data-title'),\n",
    "\t\t\t\t\t\t\t'image_url' : product.img['src'],\n",
    "\t\t\t\t\t\t\t'price_regular' : price_regular,\n",
    "\t\t\t\t\t\t\t'price_final' : product.get('data-price'),\n",
    "\t\t\t\t\t\t\t'rating' : rating,\n",
    "\t\t\t\t\t\t\t'tiki_now' : tiki_now,\n",
    "\t\t\t\t\t\t\t'product_url' : product_url,\n",
    "\t\t\t\t\t\t\t'review_total' : review_total,\n",
    "\t\t\t\t\t\t\t'insert_date' : insert_date\n",
    "\t\t\t\t\t\t}\n",
    "\n",
    "\t\t\t\t# Add the product information of each product into the 'results' list\n",
    "\t\t\t\tresults.append(row)\n",
    "\n",
    "\t\treturn results\n",
    "\texcept Exception as err:\n",
    "\t\tprint_exception(err)"
   ]
  },
  {
   "cell_type": "markdown",
   "metadata": {
    "colab_type": "text",
    "id": "cGFKk1E27yxb"
   },
   "source": [
    "## Create Database Tables"
   ]
  },
  {
   "cell_type": "code",
   "execution_count": 5,
   "metadata": {
    "colab": {},
    "colab_type": "code",
    "id": "6ebPk2-S72QG"
   },
   "outputs": [],
   "source": [
    "def create_db_table__categories():\n",
    "\t\"\"\" This function will create the database table tiki_categories\n",
    "\t\"\"\"\n",
    "\ttry:\n",
    "\t\t# Connect to the database and create a cursor\n",
    "\t\tconn = connect_to_db()\n",
    "\t\tcursor = conn.cursor()\n",
    "\t\t\n",
    "\t\t# Create the SQL query\n",
    "\t\tsql = \t\"CREATE TABLE IF NOT EXISTS \" + tbl_prefix + \"categories \\\n",
    "\t\t\t\t(cat_id SERIAL NOT NULL PRIMARY KEY, \\\n",
    "\t\t\t\tcat_name text NOT NULL, \\\n",
    "\t\t\t\tcat_url text NOT NULL)\"\n",
    "\n",
    "\t\t# Execute the query\n",
    "\t\tcursor.execute(sql)\n",
    "\n",
    "\t\t# Commit the changes made to the database\n",
    "\t\tconn.commit()\n",
    "\n",
    "\texcept (Exception, psycopg2.Error) as err:\n",
    "\t\tprint_exception(err)\n",
    "\t\t# In case of error, cancel all changes made to our database during the connection\n",
    "\t\tconn.rollback()\n",
    "\n",
    "\tfinally:\n",
    "\t\t# Close database connection\n",
    "\t\tcursor.close()\n",
    "\t\tconn.close()\n",
    "\n",
    "def create_db_table__products():\n",
    "\t\"\"\" This function will create the database table tiki_products\n",
    "\t\"\"\"\n",
    "\ttry:\n",
    "\t\t# Connect to the database and create a cursor\n",
    "\t\tconn = connect_to_db()\n",
    "\t\tcursor = conn.cursor()\n",
    "\t\t\n",
    "\t\t# Create the SQL query\n",
    "\t\t# Note: because not all products return all prices, so to prevent error in the inserting process,\n",
    "\t\t# we decide to use varchar as the data type for prices and convert data type for further use\n",
    "\t\tsql = \t\"CREATE TABLE IF NOT EXISTS \" + tbl_prefix + \"products \\\n",
    "\t\t\t\t(product_id integer NOT NULL PRIMARY KEY, \\\n",
    "\t\t\t\tseller_id integer NOT NULL, \\\n",
    "\t\t\t\tcat_id integer NOT NULL, \\\n",
    "\t\t\t\ttitle text NOT NULL, \\\n",
    "\t\t\t\timage_url text, \\\n",
    "\t\t\t\tprice_regular varchar(255), \\\n",
    "\t\t\t\tprice_final varchar(255), \\\n",
    "\t\t\t\trating float, \\\n",
    "\t\t\t\ttiki_now boolean, \\\n",
    "\t\t\t\tproduct_url text NOT NULL, \\\n",
    "\t\t\t\treview_total integer, \\\n",
    "\t\t\t\tinsert_date timestamp)\"\n",
    "\n",
    "\t\t# Execute the query\n",
    "\t\tcursor.execute(sql)\n",
    "\n",
    "\t\t# Commit the changes made to the database\n",
    "\t\tconn.commit()\n",
    "\n",
    "\texcept (Exception, psycopg2.Error) as err:\n",
    "\t\tprint_exception(err)\n",
    "\t\t# In case of error, cancel all changes made to our database during the connection\n",
    "\t\tconn.rollback()\n",
    "\n",
    "\tfinally:\n",
    "\t\t# Close database connection\n",
    "\t\tcursor.close()\n",
    "\t\tconn.close()"
   ]
  },
  {
   "cell_type": "markdown",
   "metadata": {
    "colab_type": "text",
    "id": "jYLHdG8J8Aa8"
   },
   "source": [
    "## Insert into the database"
   ]
  },
  {
   "cell_type": "code",
   "execution_count": 6,
   "metadata": {
    "colab": {},
    "colab_type": "code",
    "id": "oG12GayR8AAb"
   },
   "outputs": [],
   "source": [
    "def insert_to_db__categories():\n",
    "\t\"\"\" Get the URLs of all categories information on Tiki.vn\n",
    "\t\tand store the data into our database\n",
    "\t\"\"\"\n",
    "\ttry:\n",
    "\t\t# Get the homepage's html in BeautifulSoup format\n",
    "\t\tsoup = parser(SCRAPING_URL)\n",
    "\n",
    "\t\t# Connect to the database and create a cursor\n",
    "\t\tconn = connect_to_db()\n",
    "\t\tcursor = conn.cursor()\n",
    "\t\t\n",
    "\t\t# Scrape through the main category navigation bar\n",
    "\t\tfor i in soup.find_all('li', class_=\"MenuItem-tii3xq-0\"):\n",
    "\t\t\t\n",
    "\t\t\t# Get the category value\n",
    "\t\t\tcategory = i.a.find('span', class_='text').text\n",
    "\t\t\t\n",
    "\t\t\t# Get the url value\n",
    "\t\t\turl = i.a[\"href\"]\n",
    "\n",
    "\t\t\t# Build the SQL query with our data\n",
    "\t\t\tdata = {\"cat_name\" : category, \"cat_url\" : url}\n",
    "\t\t\t\n",
    "\t\t\t# Check for existed category in the database\n",
    "\t\t\tsql =  \"SELECT 1 FROM \" + tbl_prefix + \"categories \\\n",
    "\t\t\t\t\tWHERE cat_url = \\'\" + data['cat_url'] + \"\\'\"\n",
    "\t\t\tcursor.execute(sql)\n",
    "\n",
    "\t\t\t# If there is no existed category in the databse, then insert \n",
    "\t\t\tif cursor.fetchone() is None:\n",
    "\t\t\t\t# Create our SQL query\n",
    "\t\t\t\tsql = \"INSERT INTO \" + tbl_prefix + \"categories (cat_name, cat_url)\\\n",
    "\t\t\t\t\t\tVALUES(%(cat_name)s, %(cat_url)s)\"\n",
    "\n",
    "\t\t\t\t# Execute the query\n",
    "\t\t\t\tcursor.execute(sql, data)\n",
    "\n",
    "\t\t\t\t# Commit to insert data into the database\n",
    "\t\t\t\tconn.commit()\n",
    "\n",
    "\texcept (Exception, psycopg2.Error) as err:\n",
    "\t\tprint_exception(err)\n",
    "\t\t# In case of error, cancel all changes made to our database during the connection\n",
    "\t\tconn.rollback()\n",
    "\t\n",
    "\tfinally:\n",
    "\t\t# Close the database connection\n",
    "\t\tcursor.close()\n",
    "\t\tconn.close()\n",
    "\n",
    "def insert_to_db__products():\n",
    "\t\"\"\" Get the URLs of all products information on Tiki.vn\n",
    "\t\tand insert the data into our database on table tiki_products\n",
    "\t\"\"\"\n",
    "\ttry:\n",
    "\t\t# Connect to the database and create a cursor\n",
    "\t\tconn = connect_to_db()\n",
    "\t\tcursor = conn.cursor()\n",
    "\t\t\n",
    "\t\t# Get all category links from tiki_categories table in the database\n",
    "\t\tqueue = select_from_db(tbl_prefix + \"categories\")\n",
    "\n",
    "\t\t# Initialize the 'page' variable, which indicates the current product page of the current category\n",
    "\t\tpage = 1\n",
    "\n",
    "\t\t# While there are links in the queue, we will run through each link and get the products\n",
    "\t\twhile len(queue) > 0:\n",
    "\n",
    "\t\t\t# We will proceed from the last link in the queue     \n",
    "\t\t\tcat_id = queue[-1][0]\n",
    "\t\t\tcat_name = queue[-1][1]\n",
    "\t\t\turl = queue[-1][2]\n",
    "\n",
    "\t\t\t# Check to keep the original category's url and its category name\n",
    "\t\t\tif \"page\" not in url:\n",
    "\t\t\t\turl_orig = url\n",
    "\t\t\t\tcat_id_orig = cat_id\n",
    "\t\t\t\tcat_name_orig = cat_name\n",
    "\t\t\t\t\n",
    "\t\t\t# Remove the last link in queue so that new product url from page 2 will be added at the end of the queue\n",
    "\t\t\tqueue.pop() \n",
    "\t\t\t\n",
    "\t\t\tprint('Scraping', cat_name_orig + \" page \" + str(page))\n",
    "\t\t\tprint(url)\n",
    "\t\t\t\n",
    "\t\t\t# Get the list of products of the current page and store it in a temporary variable\n",
    "\t\t\tlist_current_products = scrape_products(cat_id, cat_name, url)\n",
    "\t\t\t\n",
    "\t\t\t# If the page has products, we will create the next product page link and add it to the queue\n",
    "\t\t\tif len(list_current_products) > 0:\n",
    "\n",
    "\t\t\t\t# Generate next page url and add it to the end of list `queue` so that it will be the next link to be scraped\n",
    "\t\t\t\tpage += 1\n",
    "\t\t\t\turl = url_orig + \"&page=\" + str(page)\n",
    "\n",
    "\t\t\t\tprint('Insert to db\\n')\n",
    "\t\t\t\tfor product in list_current_products:\n",
    "\t\t\t\t\t\n",
    "\t\t\t\t\t# Check for existed products in the database\n",
    "\t\t\t\t\tsql =  \"SELECT 1 FROM \" + tbl_prefix + \"products \\\n",
    "\t\t\t\t\t\t\tWHERE product_id = \" + product['product_id']\n",
    "\t\t\t\t\tcursor.execute(sql)\n",
    "\t\t\t\t\t\n",
    "\t\t\t\t\t# If there is no existed product in the databse, then insert \n",
    "\t\t\t\t\tif cursor.fetchone() is None:\n",
    "            \n",
    "\t\t\t\t\t\t# Create our SQL query\n",
    "\t\t\t\t\t\tsql = \"INSERT INTO \" + tbl_prefix + \"products \\\n",
    "\t\t\t\t\t\t\t\tVALUES (%(product_id)s, %(seller_id)s, %(cat_id)s, %(title)s, \\\n",
    "\t\t\t\t\t\t\t\t\t\t%(image_url)s, %(price_regular)s, %(price_final)s, %(rating)s, \\\n",
    "\t\t\t\t\t\t\t\t\t\t%(tiki_now)s, %(product_url)s, %(review_total)s, %(insert_date)s)\"\n",
    "\n",
    "\t\t\t\t\t\t# Execute the query to insert a product to the database\n",
    "\t\t\t\t\t\tcursor.execute(sql, product)\n",
    "\t\t\t\t\t\tconn.commit()\n",
    "\n",
    "\t\t\t\t# Add the new page url to the end of list `queue`\n",
    "\t\t\t\tqueue.append([cat_id_orig, cat_name_orig, url]) \n",
    "\t\t\t\t\t\n",
    "\t\t\t\tprint('Add next page', page)\n",
    "\t\t\telse: \n",
    "\t\t\t\t# Now the product page link doesn't return any product, which indicates that we have done getting all products...\n",
    "\t\t\t\t# ...of the current category. We will reset the page number to 1 in order to scrape the next category\n",
    "\t\t\t\tpage = 1\n",
    "\n",
    "\texcept (Exception, psycopg2.Error) as err:\n",
    "\t\tprint_exception(err)\n",
    "\n",
    "\t\t# In case of error, cancel all changes made to our database during the connection\n",
    "\t\tconn.rollback()\n",
    "\t\n",
    "\tfinally:\n",
    "\t\t# Close the database connection\n",
    "\t\tcursor.close()\n",
    "\t\tconn.close()"
   ]
  },
  {
   "cell_type": "markdown",
   "metadata": {
    "colab_type": "text",
    "id": "HJ-ng5_593pD"
   },
   "source": [
    "## Select Data From the Database"
   ]
  },
  {
   "cell_type": "code",
   "execution_count": 7,
   "metadata": {
    "colab": {},
    "colab_type": "code",
    "id": "SXiHvYUJ98rG"
   },
   "outputs": [],
   "source": [
    "def select_from_db(sql):\n",
    "\t\"\"\"\n",
    "\tThis function will execute the SELECT query and return the list of results\n",
    "\t1. if input is the table name, it will return the list of results from that table\n",
    "\t2. if input is the sql query, it will execute that query and return the according results\n",
    "\t\"\"\"\n",
    "\ttry:\n",
    "\t\t\n",
    "\t\t#Create an empty list\n",
    "\t\tlist_results = []\n",
    "\n",
    "\t\t# Connect to the database\n",
    "\t\tconn = connect_to_db()\n",
    "\n",
    "\t\t# Create a cursor\n",
    "\t\tcursor = conn.cursor()\n",
    "\n",
    "\t\t# Get data from the database\n",
    "\t\t# If the input variable starts with the table prefix, then this is the standard SELECT query\n",
    "\t\t# Otherwise, we will use the input value as the query\n",
    "\t\tif sql.startswith(tbl_prefix):\n",
    "\t\t\tsql = \"SELECT * FROM \" + tbl_prefix + \"categories\"\n",
    "\n",
    "\t\tcursor.execute(sql)\n",
    "\n",
    "\t\tlist_results = cursor.fetchall()\n",
    "\n",
    "\t\treturn list_results\n",
    "\n",
    "\texcept (Exception, psycopg2.Error) as err:\n",
    "\t\tprint_exception(err)\n",
    "\t\tconn.rollback()\n",
    "\n",
    "\tfinally:\n",
    "\t\t# Close the database connection\n",
    "\t\tcursor.close()\n",
    "\t\tconn.close()"
   ]
  },
  {
   "cell_type": "markdown",
   "metadata": {
    "colab_type": "text",
    "id": "3UG55q2m9_dQ"
   },
   "source": [
    "## Execute the program"
   ]
  },
  {
   "cell_type": "code",
   "execution_count": 8,
   "metadata": {
    "colab": {},
    "colab_type": "code",
    "id": "-ixxrgln-EQt"
   },
   "outputs": [],
   "source": [
    "# Create necessary database tables\n",
    "#create_db_table__categories()\n",
    "#create_db_table__products()\n",
    "\n",
    "# scrape all categories from tiki.vn and insert into the database\n",
    "#insert_to_db__categories()\n",
    "\n",
    "# scrape all products from tiki.vn and insert into the database\n",
    "#insert_to_db__products()"
   ]
  },
  {
   "cell_type": "markdown",
   "metadata": {
    "colab_type": "text",
    "id": "qGeUpfPp-c7q"
   },
   "source": [
    "## Data Analysis"
   ]
  },
  {
   "cell_type": "code",
   "execution_count": 10,
   "metadata": {
    "colab": {
     "base_uri": "https://localhost:8080/",
     "height": 814
    },
    "colab_type": "code",
    "executionInfo": {
     "elapsed": 880,
     "status": "error",
     "timestamp": 1564223582544,
     "user": {
      "displayName": "Jody Thai",
      "photoUrl": "https://lh3.googleusercontent.com/-LpV78qt_WbM/AAAAAAAAAAI/AAAAAAAAAJU/cSDgYdKtTQs/s64/photo.jpg",
      "userId": "15371680425307616747"
     },
     "user_tz": -420
    },
    "id": "82hZpsu3-iwr",
    "outputId": "8ec29272-5f5e-4481-f25d-5e44069f7df7"
   },
   "outputs": [
    {
     "name": "stdout",
     "output_type": "stream",
     "text": [
      "[(16271565, 16271566, 16, 'Dạy Đệm Organ Cấp Tốc 2', 'https://salt.tikicdn.com/cache/200x200/ts/product/57/3d/f6/dbce264a4c791570e39938cf296e0e56.jpg', '699000', '149000', 80.0, False, 'https://tiki.vn/day-dem-organ-cap-toc-2-p16271565.html?src=category-page-11312&2hi=0', 3, datetime.datetime(2019, 7, 27, 16, 56, 43, 6195)), (20711020, 22138069, 1, 'Điện Thoại IP Grandstream GXP1610 - Hàng Chính Hãng', 'https://salt.tikicdn.com/cache/200x200/ts/product/d7/8f/aa/d26f9ac72ef8fdd9957500191ebeb304.jpg', '950000', '900000', 60.0, False, 'https://tiki.vn/dien-thoai-ip-grandstream-gxp1610-hang-chinh-hang-p20711020.html?src=category-page-1789&2hi=0', 2, datetime.datetime(2019, 7, 27, 9, 31, 27, 38647)), (10765808, 10765810, 1, 'Điện Thoại Mobell S51 - Hàng Chính Hãng', 'https://salt.tikicdn.com/cache/200x200/ts/product/5a/db/8a/0855f49774d828a4b7990be4903722b2.jpg', '-1', '1790000', -1.0, False, 'https://tiki.vn/dien-thoai-mobell-s51-hang-chinh-hang-p10765808.html?src=category-page-1789&2hi=0', 0, datetime.datetime(2019, 7, 27, 9, 31, 26, 72426)), (23407543, 23407545, 1, 'Điện thoại Masstel Fami 1 - Hàng Chính Hãng', 'https://salt.tikicdn.com/cache/200x200/ts/product/78/ee/87/87bf6dc8844a1b785e5b74253bc43e39.png', '450000', '390000', -1.0, False, 'https://tiki.vn/dien-thoai-masstel-fami-1-hang-chinh-hang-p23407543.html?src=category-page-1789&2hi=0', 0, datetime.datetime(2019, 7, 27, 9, 31, 26, 59970)), (7218499, 7218503, 1, 'Điện thoại Honor 8X (4GB/64GB) - Hàng Chính Hãng  - Tặng kèm Honor Swan Speaker (Loa bluetooth)', 'https://salt.tikicdn.com/cache/200x200/ts/product/04/dd/9a/3f3e2bcc4d7a483442b7b4786543acf4.jpg', '5990000', '4990000', -1.0, False, 'https://tiki.vn/dien-thoai-honor-8x-4gb-64gb-hang-chinh-hang-tang-kem-honor-swan-speaker-loa-bluetooth-p7218499.html?src=category-page-1789&2hi=0', 0, datetime.datetime(2019, 7, 27, 9, 31, 25, 495164)), (712750, 745121, 1, 'Điện Thoại Suntek U-mate A81 - Hàng Chính Hãng', 'https://salt.tikicdn.com/cache/200x200/media/catalog/product/d/t/dtdd-suntek-u-mate-a81-2-sim-vang-2461-994749-0f463de948657e01df8d316f9c213428.u2769.d20170710.t113030.363578_1.jpg', '-1', '1750000', 60.0, False, 'https://tiki.vn/dien-thoai-suntek-u-mate-a81-hang-chinh-hang-p712750.html?src=category-page-1789&2hi=0', 1, datetime.datetime(2019, 7, 27, 9, 31, 24, 225368)), (5486329, 20451884, 1, 'Điện Thoại iPhone XS Max 512GB - Hàng Nhập Khẩu ', 'https://salt.tikicdn.com/cache/200x200/ts/product/a2/a0/e8/81c3440c5b488dcb7c5c05118082552d.jpg', '42490000', '29850000', 60.0, False, 'https://tiki.vn/dien-thoai-iphone-xs-max-512gb-hang-nhap-khau-p5486329.html?src=category-page-1789&2hi=0', 1, datetime.datetime(2019, 7, 27, 9, 31, 23, 190729)), (11626967, 21878259, 1, 'Điện Thoại Masstel IZI280 - Hàng Chính Hãng', 'https://salt.tikicdn.com/cache/200x200/ts/product/aa/79/17/575ea053f51fefb0479a4c1e84c3b40b.jpg', '490000', '320000', 60.0, False, 'https://tiki.vn/dien-thoai-masstel-izi280-hang-chinh-hang-p11626967.html?src=category-page-1789&2hi=0', 1, datetime.datetime(2019, 7, 27, 9, 31, 23, 186484)), (15170354, 23410928, 1, 'Điện thoại Masstel X3 - Vàng - Hàng chính hãng', 'https://salt.tikicdn.com/cache/200x200/ts/product/e2/5d/bd/6a9d2e0266fac259e5fcc6eb3a03d188.png', '1490000', '1150000', -1.0, False, 'https://tiki.vn/dien-thoai-masstel-x3-vang-hang-chinh-hang-p15170354.html?src=category-page-1789&2hi=0', 0, datetime.datetime(2019, 7, 27, 9, 31, 23, 136765)), (19758866, 19758878, 1, 'Điện Thoại Xiaomi Redmi K20 (8GB/256GB) + Ốp Lưng + Cường Lực 5D Full Màn - Hàng Nhập Khẩu', 'https://salt.tikicdn.com/cache/200x200/ts/product/bc/61/50/1c956223cc48a60289b70a5d49be06d5.jpg', '10300000', '8199000', -1.0, False, 'https://tiki.vn/dien-thoai-xiaomi-redmi-k20-8gb-256gb-op-lung-cuong-luc-5d-full-man-hang-nhap-khau-p19758866.html?src=category-page-1789&2hi=0', 0, datetime.datetime(2019, 7, 27, 9, 31, 23, 135654))]\n"
     ]
    }
   ],
   "source": [
    "# Get the list of 10 latest products\n",
    "sql = \"SELECT * FROM \" + tbl_prefix + \"products ORDER BY insert_date DESC LIMIT 10\"\n",
    "\n",
    "list_products = select_from_db(sql)\n",
    "print(list_products)"
   ]
  },
  {
   "cell_type": "code",
   "execution_count": null,
   "metadata": {
    "colab": {},
    "colab_type": "code",
    "id": "sMQkAQlK-0Kh"
   },
   "outputs": [],
   "source": []
  }
 ],
 "metadata": {
  "colab": {
   "collapsed_sections": [],
   "name": "Week 2 Project.ipynb",
   "provenance": [],
   "version": "0.3.2"
  },
  "kernelspec": {
   "display_name": "Python 3",
   "language": "python",
   "name": "python3"
  },
  "language_info": {
   "codemirror_mode": {
    "name": "ipython",
    "version": 3
   },
   "file_extension": ".py",
   "mimetype": "text/x-python",
   "name": "python",
   "nbconvert_exporter": "python",
   "pygments_lexer": "ipython3",
   "version": "3.7.3"
  }
 },
 "nbformat": 4,
 "nbformat_minor": 1
}
